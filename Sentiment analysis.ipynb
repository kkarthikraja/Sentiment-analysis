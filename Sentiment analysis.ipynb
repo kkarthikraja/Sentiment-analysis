{
  "metadata": {
    "kernelspec": {
      "language": "python",
      "display_name": "Python 3",
      "name": "python3"
    },
    "language_info": {
      "pygments_lexer": "ipython3",
      "nbconvert_exporter": "python",
      "version": "3.6.4",
      "file_extension": ".py",
      "codemirror_mode": {
        "name": "ipython",
        "version": 3
      },
      "name": "python",
      "mimetype": "text/x-python"
    },
    "colab": {
      "name": "Sentiment Analysis Python 🤗 [Youtube Tutorial]",
      "provenance": []
    }
  },
  "nbformat_minor": 0,
  "nbformat": 4,
  "cells": [
    {
      "cell_type": "markdown",
      "source": [
        "# Sentiment Analysis in Python\n",
        "\n",
        "In this notebook we will be doing some sentiment analysis in python using two different techniques:\n",
        "1. VADER (Valence Aware Dictionary and sEntiment Reasoner) - Bag of words approach\n",
        "2. Roberta Pretrained Model from 🤗\n",
        "3. Huggingface Pipeline"
      ],
      "metadata": {
        "_uuid": "8f2839f25d086af736a60e9eeb907d3b93b6e0e5",
        "_cell_guid": "b1076dfc-b9ad-4769-8c92-a6c4dae69d19",
        "id": "BxaK1Ud6kEse"
      }
    },
    {
      "cell_type": "markdown",
      "source": [
        "# Step 0. Read in Data and NLTK Basics"
      ],
      "metadata": {
        "id": "HwPak77ZkEsg"
      }
    },
    {
      "cell_type": "code",
      "source": [
        "import pandas as pd\n",
        "import numpy as np\n",
        "import matplotlib.pyplot as plt\n",
        "import seaborn as sns\n",
        "\n",
        "plt.style.use('ggplot')\n",
        "\n",
        "import nltk"
      ],
      "metadata": {
        "execution": {
          "iopub.status.busy": "2022-05-04T19:39:21.715793Z",
          "iopub.execute_input": "2022-05-04T19:39:21.716451Z",
          "iopub.status.idle": "2022-05-04T19:39:23.804667Z",
          "shell.execute_reply.started": "2022-05-04T19:39:21.716291Z",
          "shell.execute_reply": "2022-05-04T19:39:23.803713Z"
        },
        "trusted": true,
        "id": "GfOPaomakEsh"
      },
      "execution_count": null,
      "outputs": []
    },
    {
      "cell_type": "code",
      "source": [
        "# Read in data\n",
        "df = pd.read_csv('../Reviews.csv')\n",
        "print(df.shape)\n",
        "df = df.head(500)\n",
        "print(df.shape)"
      ],
      "metadata": {
        "execution": {
          "iopub.status.busy": "2022-05-04T19:40:57.583163Z",
          "iopub.execute_input": "2022-05-04T19:40:57.583681Z",
          "iopub.status.idle": "2022-05-04T19:41:02.153565Z",
          "shell.execute_reply.started": "2022-05-04T19:40:57.583629Z",
          "shell.execute_reply": "2022-05-04T19:41:02.152345Z"
        },
        "trusted": true,
        "id": "_dmBaZx_kEsh"
      },
      "execution_count": null,
      "outputs": []
    },
    {
      "cell_type": "code",
      "source": [
        "df.head()"
      ],
      "metadata": {
        "execution": {
          "iopub.status.busy": "2022-05-04T19:41:11.259303Z",
          "iopub.execute_input": "2022-05-04T19:41:11.259584Z",
          "iopub.status.idle": "2022-05-04T19:41:11.274472Z",
          "shell.execute_reply.started": "2022-05-04T19:41:11.259556Z",
          "shell.execute_reply": "2022-05-04T19:41:11.27385Z"
        },
        "trusted": true,
        "id": "4Mc2lWG2kEsi"
      },
      "execution_count": null,
      "outputs": []
    },
    {
      "cell_type": "markdown",
      "source": [
        "## Quick EDA"
      ],
      "metadata": {
        "id": "kxMz6Xc3kEsj"
      }
    },
    {
      "cell_type": "code",
      "source": [
        "ax = df['Score'].value_counts().sort_index() \\\n",
        "    .plot(kind='bar',\n",
        "          title='Count of Reviews by Stars',\n",
        "          figsize=(10, 5))\n",
        "ax.set_xlabel('Review Stars')\n",
        "plt.show()"
      ],
      "metadata": {
        "execution": {
          "iopub.status.busy": "2022-05-04T19:42:20.960296Z",
          "iopub.execute_input": "2022-05-04T19:42:20.960612Z",
          "iopub.status.idle": "2022-05-04T19:42:21.160845Z",
          "shell.execute_reply.started": "2022-05-04T19:42:20.960582Z",
          "shell.execute_reply": "2022-05-04T19:42:21.159781Z"
        },
        "trusted": true,
        "id": "lh_z9z0WkEsj"
      },
      "execution_count": null,
      "outputs": []
    },
    {
      "cell_type": "markdown",
      "source": [
        "## Basic NLTK"
      ],
      "metadata": {
        "id": "fSERgPNNkEsk"
      }
    },
    {
      "cell_type": "code",
      "source": [
        "example = df['Text'][50]\n",
        "print(example)"
      ],
      "metadata": {
        "execution": {
          "iopub.status.busy": "2022-05-04T19:43:03.80111Z",
          "iopub.execute_input": "2022-05-04T19:43:03.801913Z",
          "iopub.status.idle": "2022-05-04T19:43:03.807131Z",
          "shell.execute_reply.started": "2022-05-04T19:43:03.801876Z",
          "shell.execute_reply": "2022-05-04T19:43:03.80649Z"
        },
        "trusted": true,
        "id": "KCHGvb0fkEsk"
      },
      "execution_count": null,
      "outputs": []
    },
    {
      "cell_type": "code",
      "source": [
        "tokens = nltk.word_tokenize(example)\n",
        "tokens[:10]"
      ],
      "metadata": {
        "execution": {
          "iopub.status.busy": "2022-05-04T19:44:19.0761Z",
          "iopub.execute_input": "2022-05-04T19:44:19.076415Z",
          "iopub.status.idle": "2022-05-04T19:44:19.083725Z",
          "shell.execute_reply.started": "2022-05-04T19:44:19.076369Z",
          "shell.execute_reply": "2022-05-04T19:44:19.082703Z"
        },
        "trusted": true,
        "id": "25d8ozeSkEsk"
      },
      "execution_count": null,
      "outputs": []
    },
    {
      "cell_type": "code",
      "source": [
        "tagged = nltk.pos_tag(tokens)\n",
        "tagged[:10]"
      ],
      "metadata": {
        "execution": {
          "iopub.status.busy": "2022-05-04T19:45:28.695062Z",
          "iopub.execute_input": "2022-05-04T19:45:28.695458Z",
          "iopub.status.idle": "2022-05-04T19:45:28.704207Z",
          "shell.execute_reply.started": "2022-05-04T19:45:28.695397Z",
          "shell.execute_reply": "2022-05-04T19:45:28.703294Z"
        },
        "trusted": true,
        "id": "AlQBaKMpkEsl"
      },
      "execution_count": null,
      "outputs": []
    },
    {
      "cell_type": "code",
      "source": [
        "entities = nltk.chunk.ne_chunk(tagged)\n",
        "entities.pprint()"
      ],
      "metadata": {
        "execution": {
          "iopub.status.busy": "2022-05-04T19:46:29.292885Z",
          "iopub.execute_input": "2022-05-04T19:46:29.293174Z",
          "iopub.status.idle": "2022-05-04T19:46:29.308244Z",
          "shell.execute_reply.started": "2022-05-04T19:46:29.293142Z",
          "shell.execute_reply": "2022-05-04T19:46:29.307274Z"
        },
        "trusted": true,
        "id": "miwuo5STkEsl"
      },
      "execution_count": null,
      "outputs": []
    },
    {
      "cell_type": "markdown",
      "source": [
        "# Step 1. VADER Seniment Scoring\n",
        "\n",
        "We will use NLTK's `SentimentIntensityAnalyzer` to get the neg/neu/pos scores of the text.\n",
        "\n",
        "- This uses a \"bag of words\" approach:\n",
        "    1. Stop words are removed\n",
        "    2. each word is scored and combined to a total score."
      ],
      "metadata": {
        "id": "-TlcZudukEsl"
      }
    },
    {
      "cell_type": "code",
      "source": [
        "from nltk.sentiment import SentimentIntensityAnalyzer\n",
        "from tqdm.notebook import tqdm\n",
        "\n",
        "sia = SentimentIntensityAnalyzer()"
      ],
      "metadata": {
        "execution": {
          "iopub.status.busy": "2022-05-04T19:49:00.871775Z",
          "iopub.execute_input": "2022-05-04T19:49:00.872374Z",
          "iopub.status.idle": "2022-05-04T19:49:00.897436Z",
          "shell.execute_reply.started": "2022-05-04T19:49:00.872332Z",
          "shell.execute_reply": "2022-05-04T19:49:00.896255Z"
        },
        "trusted": true,
        "id": "l9FaqkCYkEsl"
      },
      "execution_count": null,
      "outputs": []
    },
    {
      "cell_type": "code",
      "source": [
        "sia.polarity_scores('I am so happy!')"
      ],
      "metadata": {
        "execution": {
          "iopub.status.busy": "2022-05-04T19:49:23.162587Z",
          "iopub.execute_input": "2022-05-04T19:49:23.163454Z",
          "iopub.status.idle": "2022-05-04T19:49:23.169341Z",
          "shell.execute_reply.started": "2022-05-04T19:49:23.163405Z",
          "shell.execute_reply": "2022-05-04T19:49:23.168416Z"
        },
        "trusted": true,
        "id": "j3CTMpt_kEsm"
      },
      "execution_count": null,
      "outputs": []
    },
    {
      "cell_type": "code",
      "source": [
        "sia.polarity_scores('This is the worst thing ever.')"
      ],
      "metadata": {
        "execution": {
          "iopub.status.busy": "2022-05-04T19:50:17.483709Z",
          "iopub.execute_input": "2022-05-04T19:50:17.484008Z",
          "iopub.status.idle": "2022-05-04T19:50:17.490483Z",
          "shell.execute_reply.started": "2022-05-04T19:50:17.483975Z",
          "shell.execute_reply": "2022-05-04T19:50:17.489645Z"
        },
        "trusted": true,
        "id": "tr5I9NKTkEsm"
      },
      "execution_count": null,
      "outputs": []
    },
    {
      "cell_type": "code",
      "source": [
        "sia.polarity_scores(example)"
      ],
      "metadata": {
        "execution": {
          "iopub.status.busy": "2022-05-04T19:50:56.001818Z",
          "iopub.execute_input": "2022-05-04T19:50:56.002141Z",
          "iopub.status.idle": "2022-05-04T19:50:56.008847Z",
          "shell.execute_reply.started": "2022-05-04T19:50:56.0021Z",
          "shell.execute_reply": "2022-05-04T19:50:56.00804Z"
        },
        "trusted": true,
        "id": "yA8cXvkJkEsm"
      },
      "execution_count": null,
      "outputs": []
    },
    {
      "cell_type": "code",
      "source": [
        "# Run the polarity score on the entire dataset\n",
        "res = {}\n",
        "for i, row in tqdm(df.iterrows(), total=len(df)):\n",
        "    text = row['Text']\n",
        "    myid = row['Id']\n",
        "    res[myid] = sia.polarity_scores(text)"
      ],
      "metadata": {
        "execution": {
          "iopub.status.busy": "2022-05-04T19:52:58.893245Z",
          "iopub.execute_input": "2022-05-04T19:52:58.893588Z",
          "iopub.status.idle": "2022-05-04T19:52:59.49514Z",
          "shell.execute_reply.started": "2022-05-04T19:52:58.893552Z",
          "shell.execute_reply": "2022-05-04T19:52:59.494275Z"
        },
        "trusted": true,
        "id": "K9S4nRagkEsm"
      },
      "execution_count": null,
      "outputs": []
    },
    {
      "cell_type": "code",
      "source": [
        "vaders = pd.DataFrame(res).T\n",
        "vaders = vaders.reset_index().rename(columns={'index': 'Id'})\n",
        "vaders = vaders.merge(df, how='left')"
      ],
      "metadata": {
        "execution": {
          "iopub.status.busy": "2022-05-04T19:54:30.924791Z",
          "iopub.execute_input": "2022-05-04T19:54:30.925103Z",
          "iopub.status.idle": "2022-05-04T19:54:30.966166Z",
          "shell.execute_reply.started": "2022-05-04T19:54:30.925073Z",
          "shell.execute_reply": "2022-05-04T19:54:30.965461Z"
        },
        "trusted": true,
        "id": "laD6KidIkEsm"
      },
      "execution_count": null,
      "outputs": []
    },
    {
      "cell_type": "code",
      "source": [
        "# Now we have sentiment score and metadata\n",
        "vaders.head()"
      ],
      "metadata": {
        "execution": {
          "iopub.status.busy": "2022-05-04T19:54:54.822445Z",
          "iopub.execute_input": "2022-05-04T19:54:54.822947Z",
          "iopub.status.idle": "2022-05-04T19:54:54.841701Z",
          "shell.execute_reply.started": "2022-05-04T19:54:54.822898Z",
          "shell.execute_reply": "2022-05-04T19:54:54.840666Z"
        },
        "trusted": true,
        "id": "DS4Fi-a4kEsm"
      },
      "execution_count": null,
      "outputs": []
    },
    {
      "cell_type": "markdown",
      "source": [
        "## Plot VADER results"
      ],
      "metadata": {
        "id": "vY2ILXaEkEsm"
      }
    },
    {
      "cell_type": "code",
      "source": [
        "ax = sns.barplot(data=vaders, x='Score', y='compound')\n",
        "ax.set_title('Compund Score by Amazon Star Review')\n",
        "plt.show()"
      ],
      "metadata": {
        "execution": {
          "iopub.status.busy": "2022-05-04T19:56:43.93162Z",
          "iopub.execute_input": "2022-05-04T19:56:43.932173Z",
          "iopub.status.idle": "2022-05-04T19:56:44.304355Z",
          "shell.execute_reply.started": "2022-05-04T19:56:43.932133Z",
          "shell.execute_reply": "2022-05-04T19:56:44.303225Z"
        },
        "trusted": true,
        "id": "GDZfQJnhkEsn"
      },
      "execution_count": null,
      "outputs": []
    },
    {
      "cell_type": "code",
      "source": [
        "fig, axs = plt.subplots(1, 3, figsize=(12, 3))\n",
        "sns.barplot(data=vaders, x='Score', y='pos', ax=axs[0])\n",
        "sns.barplot(data=vaders, x='Score', y='neu', ax=axs[1])\n",
        "sns.barplot(data=vaders, x='Score', y='neg', ax=axs[2])\n",
        "axs[0].set_title('Positive')\n",
        "axs[1].set_title('Neutral')\n",
        "axs[2].set_title('Negative')\n",
        "plt.tight_layout()\n",
        "plt.show()"
      ],
      "metadata": {
        "execution": {
          "iopub.status.busy": "2022-05-04T19:59:44.605431Z",
          "iopub.execute_input": "2022-05-04T19:59:44.605727Z",
          "iopub.status.idle": "2022-05-04T19:59:45.475907Z",
          "shell.execute_reply.started": "2022-05-04T19:59:44.605697Z",
          "shell.execute_reply": "2022-05-04T19:59:45.475026Z"
        },
        "trusted": true,
        "id": "xLifgbynkEsn"
      },
      "execution_count": null,
      "outputs": []
    },
    {
      "cell_type": "markdown",
      "source": [
        "# Step 3. Roberta Pretrained Model\n",
        "\n",
        "- Use a model trained of a large corpus of data.\n",
        "- Transformer model accounts for the words but also the context related to other words."
      ],
      "metadata": {
        "id": "9UT3Cc3ckEsn"
      }
    },
    {
      "cell_type": "code",
      "source": [
        "from transformers import AutoTokenizer\n",
        "from transformers import AutoModelForSequenceClassification\n",
        "from scipy.special import softmax"
      ],
      "metadata": {
        "execution": {
          "iopub.status.busy": "2022-05-04T20:02:04.543909Z",
          "iopub.execute_input": "2022-05-04T20:02:04.544844Z",
          "iopub.status.idle": "2022-05-04T20:02:04.549708Z",
          "shell.execute_reply.started": "2022-05-04T20:02:04.544786Z",
          "shell.execute_reply": "2022-05-04T20:02:04.54872Z"
        },
        "trusted": true,
        "id": "mRKjO2lEkEsn"
      },
      "execution_count": null,
      "outputs": []
    },
    {
      "cell_type": "code",
      "source": [
        "MODEL = f\"cardiffnlp/twitter-roberta-base-sentiment\"\n",
        "tokenizer = AutoTokenizer.from_pretrained(MODEL)\n",
        "model = AutoModelForSequenceClassification.from_pretrained(MODEL)"
      ],
      "metadata": {
        "execution": {
          "iopub.status.busy": "2022-05-04T20:02:34.966403Z",
          "iopub.execute_input": "2022-05-04T20:02:34.967204Z",
          "iopub.status.idle": "2022-05-04T20:03:04.534818Z",
          "shell.execute_reply.started": "2022-05-04T20:02:34.967162Z",
          "shell.execute_reply": "2022-05-04T20:03:04.533813Z"
        },
        "trusted": true,
        "id": "efyPzw18kEsn"
      },
      "execution_count": null,
      "outputs": []
    },
    {
      "cell_type": "code",
      "source": [
        "# VADER results on example\n",
        "print(example)\n",
        "sia.polarity_scores(example)"
      ],
      "metadata": {
        "execution": {
          "iopub.status.busy": "2022-05-04T20:03:28.569359Z",
          "iopub.execute_input": "2022-05-04T20:03:28.570335Z",
          "iopub.status.idle": "2022-05-04T20:03:28.581962Z",
          "shell.execute_reply.started": "2022-05-04T20:03:28.57029Z",
          "shell.execute_reply": "2022-05-04T20:03:28.58106Z"
        },
        "trusted": true,
        "id": "JrqSge5TkEsn"
      },
      "execution_count": null,
      "outputs": []
    },
    {
      "cell_type": "code",
      "source": [
        "# Run for Roberta Model\n",
        "encoded_text = tokenizer(example, return_tensors='pt')\n",
        "output = model(**encoded_text)\n",
        "scores = output[0][0].detach().numpy()\n",
        "scores = softmax(scores)\n",
        "scores_dict = {\n",
        "    'roberta_neg' : scores[0],\n",
        "    'roberta_neu' : scores[1],\n",
        "    'roberta_pos' : scores[2]\n",
        "}\n",
        "print(scores_dict)"
      ],
      "metadata": {
        "execution": {
          "iopub.status.busy": "2022-05-04T20:06:17.758657Z",
          "iopub.execute_input": "2022-05-04T20:06:17.759136Z",
          "iopub.status.idle": "2022-05-04T20:06:17.880012Z",
          "shell.execute_reply.started": "2022-05-04T20:06:17.7591Z",
          "shell.execute_reply": "2022-05-04T20:06:17.879226Z"
        },
        "trusted": true,
        "id": "8po3coVlkEsn"
      },
      "execution_count": null,
      "outputs": []
    },
    {
      "cell_type": "code",
      "source": [
        "def polarity_scores_roberta(example):\n",
        "    encoded_text = tokenizer(example, return_tensors='pt')\n",
        "    output = model(**encoded_text)\n",
        "    scores = output[0][0].detach().numpy()\n",
        "    scores = softmax(scores)\n",
        "    scores_dict = {\n",
        "        'roberta_neg' : scores[0],\n",
        "        'roberta_neu' : scores[1],\n",
        "        'roberta_pos' : scores[2]\n",
        "    }\n",
        "    return scores_dict"
      ],
      "metadata": {
        "execution": {
          "iopub.status.busy": "2022-05-04T20:07:13.064444Z",
          "iopub.execute_input": "2022-05-04T20:07:13.065087Z",
          "iopub.status.idle": "2022-05-04T20:07:13.071124Z",
          "shell.execute_reply.started": "2022-05-04T20:07:13.065019Z",
          "shell.execute_reply": "2022-05-04T20:07:13.070421Z"
        },
        "trusted": true,
        "id": "DTtGs4gBkEso"
      },
      "execution_count": null,
      "outputs": []
    },
    {
      "cell_type": "code",
      "source": [
        "res = {}\n",
        "for i, row in tqdm(df.iterrows(), total=len(df)):\n",
        "    try:\n",
        "        text = row['Text']\n",
        "        myid = row['Id']\n",
        "        vader_result = sia.polarity_scores(text)\n",
        "        vader_result_rename = {}\n",
        "        for key, value in vader_result.items():\n",
        "            vader_result_rename[f\"vader_{key}\"] = value\n",
        "        roberta_result = polarity_scores_roberta(text)\n",
        "        both = {**vader_result_rename, **roberta_result}\n",
        "        res[myid] = both\n",
        "    except RuntimeError:\n",
        "        print(f'Broke for id {myid}')"
      ],
      "metadata": {
        "execution": {
          "iopub.status.busy": "2022-05-04T20:10:38.073568Z",
          "iopub.execute_input": "2022-05-04T20:10:38.073859Z",
          "iopub.status.idle": "2022-05-04T20:12:19.631136Z",
          "shell.execute_reply.started": "2022-05-04T20:10:38.07383Z",
          "shell.execute_reply": "2022-05-04T20:12:19.630135Z"
        },
        "trusted": true,
        "id": "kUsf7oc7kEso"
      },
      "execution_count": null,
      "outputs": []
    },
    {
      "cell_type": "code",
      "source": [
        "results_df = pd.DataFrame(res).T\n",
        "results_df = results_df.reset_index().rename(columns={'index': 'Id'})\n",
        "results_df = results_df.merge(df, how='left')"
      ],
      "metadata": {
        "execution": {
          "iopub.status.busy": "2022-05-04T20:13:25.789228Z",
          "iopub.execute_input": "2022-05-04T20:13:25.789608Z",
          "iopub.status.idle": "2022-05-04T20:13:25.830997Z",
          "shell.execute_reply.started": "2022-05-04T20:13:25.789567Z",
          "shell.execute_reply": "2022-05-04T20:13:25.829815Z"
        },
        "trusted": true,
        "id": "af2S4-mhkEso"
      },
      "execution_count": null,
      "outputs": []
    },
    {
      "cell_type": "markdown",
      "source": [
        "## Compare Scores between models"
      ],
      "metadata": {
        "execution": {
          "iopub.status.busy": "2022-05-04T20:13:28.535656Z",
          "iopub.execute_input": "2022-05-04T20:13:28.535935Z",
          "iopub.status.idle": "2022-05-04T20:13:28.558465Z",
          "shell.execute_reply.started": "2022-05-04T20:13:28.535906Z",
          "shell.execute_reply": "2022-05-04T20:13:28.55787Z"
        },
        "id": "NYvHD9BEkEso"
      }
    },
    {
      "cell_type": "code",
      "source": [
        "results_df.columns"
      ],
      "metadata": {
        "execution": {
          "iopub.status.busy": "2022-05-04T20:14:18.110445Z",
          "iopub.execute_input": "2022-05-04T20:14:18.110755Z",
          "iopub.status.idle": "2022-05-04T20:14:18.117026Z",
          "shell.execute_reply.started": "2022-05-04T20:14:18.110719Z",
          "shell.execute_reply": "2022-05-04T20:14:18.116414Z"
        },
        "trusted": true,
        "id": "wXRMxswJkEso"
      },
      "execution_count": null,
      "outputs": []
    },
    {
      "cell_type": "markdown",
      "source": [
        "# Step 3. Combine and compare"
      ],
      "metadata": {
        "id": "-4zXtXK9kEso"
      }
    },
    {
      "cell_type": "code",
      "source": [
        "sns.pairplot(data=results_df,\n",
        "             vars=['vader_neg', 'vader_neu', 'vader_pos',\n",
        "                  'roberta_neg', 'roberta_neu', 'roberta_pos'],\n",
        "            hue='Score',\n",
        "            palette='tab10')\n",
        "plt.show()"
      ],
      "metadata": {
        "execution": {
          "iopub.status.busy": "2022-05-04T20:15:03.033224Z",
          "iopub.execute_input": "2022-05-04T20:15:03.034071Z",
          "iopub.status.idle": "2022-05-04T20:15:15.660691Z",
          "shell.execute_reply.started": "2022-05-04T20:15:03.034018Z",
          "shell.execute_reply": "2022-05-04T20:15:15.659964Z"
        },
        "trusted": true,
        "id": "VI1lU2C6kEso"
      },
      "execution_count": null,
      "outputs": []
    },
    {
      "cell_type": "markdown",
      "source": [
        "# Step 4: Review Examples:\n",
        "\n",
        "- Positive 1-Star and Negative 5-Star Reviews\n",
        "\n",
        "Lets look at some examples where the model scoring and review score differ the most."
      ],
      "metadata": {
        "id": "dGoxpYKFkEsp"
      }
    },
    {
      "cell_type": "code",
      "source": [
        "results_df.query('Score == 1') \\\n",
        "    .sort_values('roberta_pos', ascending=False)['Text'].values[0]"
      ],
      "metadata": {
        "execution": {
          "iopub.status.busy": "2022-05-04T20:17:40.45463Z",
          "iopub.execute_input": "2022-05-04T20:17:40.454931Z",
          "iopub.status.idle": "2022-05-04T20:17:40.466941Z",
          "shell.execute_reply.started": "2022-05-04T20:17:40.454899Z",
          "shell.execute_reply": "2022-05-04T20:17:40.465905Z"
        },
        "trusted": true,
        "id": "1vltyDjkkEsp"
      },
      "execution_count": null,
      "outputs": []
    },
    {
      "cell_type": "code",
      "source": [
        "results_df.query('Score == 1') \\\n",
        "    .sort_values('vader_pos', ascending=False)['Text'].values[0]"
      ],
      "metadata": {
        "execution": {
          "iopub.status.busy": "2022-05-04T20:18:29.570513Z",
          "iopub.execute_input": "2022-05-04T20:18:29.570823Z",
          "iopub.status.idle": "2022-05-04T20:18:29.581437Z",
          "shell.execute_reply.started": "2022-05-04T20:18:29.57079Z",
          "shell.execute_reply": "2022-05-04T20:18:29.580549Z"
        },
        "trusted": true,
        "id": "kW3MewLMkEsp"
      },
      "execution_count": null,
      "outputs": []
    },
    {
      "cell_type": "code",
      "source": [
        "# nevative sentiment 5-Star view"
      ],
      "metadata": {
        "id": "1cOxgy3SkEsz"
      },
      "execution_count": null,
      "outputs": []
    },
    {
      "cell_type": "code",
      "source": [
        "results_df.query('Score == 5') \\\n",
        "    .sort_values('roberta_neg', ascending=False)['Text'].values[0]"
      ],
      "metadata": {
        "execution": {
          "iopub.status.busy": "2022-05-04T20:19:28.636456Z",
          "iopub.execute_input": "2022-05-04T20:19:28.636791Z",
          "iopub.status.idle": "2022-05-04T20:19:28.649423Z",
          "shell.execute_reply.started": "2022-05-04T20:19:28.63676Z",
          "shell.execute_reply": "2022-05-04T20:19:28.648342Z"
        },
        "trusted": true,
        "id": "O3wqey8TkEsz"
      },
      "execution_count": null,
      "outputs": []
    },
    {
      "cell_type": "code",
      "source": [
        "results_df.query('Score == 5') \\\n",
        "    .sort_values('vader_neg', ascending=False)['Text'].values[0]"
      ],
      "metadata": {
        "execution": {
          "iopub.status.busy": "2022-05-04T20:19:50.668083Z",
          "iopub.execute_input": "2022-05-04T20:19:50.668588Z",
          "iopub.status.idle": "2022-05-04T20:19:50.680922Z",
          "shell.execute_reply.started": "2022-05-04T20:19:50.668533Z",
          "shell.execute_reply": "2022-05-04T20:19:50.679368Z"
        },
        "trusted": true,
        "id": "BiFY0fmKkEsz"
      },
      "execution_count": null,
      "outputs": []
    },
    {
      "cell_type": "markdown",
      "source": [
        "# Extra: The Transformers Pipeline\n",
        "- Quick & easy way to run sentiment predictions"
      ],
      "metadata": {
        "id": "SqmgMoMhkEsz"
      }
    },
    {
      "cell_type": "code",
      "source": [
        "from transformers import pipeline\n",
        "\n",
        "sent_pipeline = pipeline(\"sentiment-analysis\")"
      ],
      "metadata": {
        "execution": {
          "iopub.status.busy": "2022-05-04T20:21:29.273878Z",
          "iopub.execute_input": "2022-05-04T20:21:29.274918Z",
          "iopub.status.idle": "2022-05-04T20:21:53.761691Z",
          "shell.execute_reply.started": "2022-05-04T20:21:29.274856Z",
          "shell.execute_reply": "2022-05-04T20:21:53.760809Z"
        },
        "trusted": true,
        "id": "ERsO5dFckEsz"
      },
      "execution_count": null,
      "outputs": []
    },
    {
      "cell_type": "code",
      "source": [
        "sent_pipeline('I love sentiment analysis!')"
      ],
      "metadata": {
        "execution": {
          "iopub.status.busy": "2022-05-04T20:22:03.114046Z",
          "iopub.execute_input": "2022-05-04T20:22:03.114344Z",
          "iopub.status.idle": "2022-05-04T20:22:03.160623Z",
          "shell.execute_reply.started": "2022-05-04T20:22:03.114311Z",
          "shell.execute_reply": "2022-05-04T20:22:03.159837Z"
        },
        "trusted": true,
        "id": "F4QwhfT6kEs0"
      },
      "execution_count": null,
      "outputs": []
    },
    {
      "cell_type": "code",
      "source": [
        "sent_pipeline('Make sure to like and subscribe!')"
      ],
      "metadata": {
        "execution": {
          "iopub.status.busy": "2022-05-04T20:22:33.548562Z",
          "iopub.execute_input": "2022-05-04T20:22:33.548885Z",
          "iopub.status.idle": "2022-05-04T20:22:33.590766Z",
          "shell.execute_reply.started": "2022-05-04T20:22:33.548849Z",
          "shell.execute_reply": "2022-05-04T20:22:33.590011Z"
        },
        "trusted": true,
        "id": "hPLC9pc1kEs0"
      },
      "execution_count": null,
      "outputs": []
    },
    {
      "cell_type": "code",
      "source": [
        "sent_pipeline('booo')"
      ],
      "metadata": {
        "execution": {
          "iopub.status.busy": "2022-05-04T20:22:40.382654Z",
          "iopub.execute_input": "2022-05-04T20:22:40.383271Z",
          "iopub.status.idle": "2022-05-04T20:22:40.416601Z",
          "shell.execute_reply.started": "2022-05-04T20:22:40.383216Z",
          "shell.execute_reply": "2022-05-04T20:22:40.415837Z"
        },
        "trusted": true,
        "id": "m3LuLgvxkEs0"
      },
      "execution_count": null,
      "outputs": []
    },
    {
      "cell_type": "markdown",
      "source": [
        "# The End"
      ],
      "metadata": {
        "id": "hYU6yJnUkEs0"
      }
    }
  ]
}